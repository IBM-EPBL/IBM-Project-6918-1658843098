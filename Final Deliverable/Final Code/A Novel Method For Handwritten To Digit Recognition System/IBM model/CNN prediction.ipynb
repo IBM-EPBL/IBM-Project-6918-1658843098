{
  "nbformat": 4,
  "nbformat_minor": 0,
  "metadata": {
    "colab": {
      "provenance": []
    },
    "kernelspec": {
      "name": "python3",
      "display_name": "Python 3"
    },
    "language_info": {
      "name": "python"
    }
  },
  "cells": [
    {
      "cell_type": "code",
      "execution_count": 1,
      "metadata": {
        "id": "wpKjBGaiQOp3"
      },
      "outputs": [],
      "source": [
        "from tensorflow.keras.models import load_model\n",
        "from keras.preprocessing import image\n",
        "from PIL import Image\n",
        "import numpy as np"
      ]
    },
    {
      "cell_type": "code",
      "source": [
        "model = load_model(\"mnistCNN.h5\")"
      ],
      "metadata": {
        "id": "uzrcZfp5QQ0v"
      },
      "execution_count": 2,
      "outputs": []
    },
    {
      "cell_type": "code",
      "source": [
        "img = Image.open(\"/content/mnist-dataset-1024x424 (7).png\").convert(\"L\") # convert image to monochrome\n",
        "img = img.resize( (28,28) ) # resizing of input image"
      ],
      "metadata": {
        "id": "xavdJ5L2Qtk7"
      },
      "execution_count": 3,
      "outputs": []
    },
    {
      "cell_type": "code",
      "source": [
        "img"
      ],
      "metadata": {
        "colab": {
          "base_uri": "https://localhost:8080/",
          "height": 45
        },
        "id": "xwcfD7VHQ0X2",
        "outputId": "c3569ed9-263e-439d-ef18-f8341670af18"
      },
      "execution_count": 4,
      "outputs": [
        {
          "output_type": "execute_result",
          "data": {
            "text/plain": [
              "<PIL.Image.Image image mode=L size=28x28 at 0x7F90E3862890>"
            ],
            "image/png": "[encoded data removed]"
          },
          "metadata": {},
          "execution_count": 4
        }
      ]
    },
    {
      "cell_type": "code",
      "source": [
        "im2arr = np.array(img) #converting to image\n",
        "im2arr = im2arr.reshape(1, 28, 28, 1) #reshaping according to our requirement"
      ],
      "metadata": {
        "id": "uPPlWfNQQ3qw"
      },
      "execution_count": 5,
      "outputs": []
    },
    {
      "cell_type": "code",
      "source": [
        "pred = model.predict(im2arr)\n",
        "print(pred)"
      ],
      "metadata": {
        "colab": {
          "base_uri": "https://localhost:8080/"
        },
        "id": "U22OsfzqQ8JF",
        "outputId": "86049c18-ad78-421a-f53d-4fd184da8ae3"
      },
      "execution_count": 6,
      "outputs": [
        {
          "output_type": "stream",
          "name": "stdout",
          "text": [
            "1/1 [==============================] - 0s 327ms/step\n",
            "[[5.2150291e-11 1.3858504e-13 4.5849703e-18 6.0116708e-12 1.3298994e-14\n",
            "  1.0000000e+00 6.2180566e-15 6.9403094e-17 1.8296779e-10 1.3401909e-08]]\n"
          ]
        }
      ]
    },
    {
      "cell_type": "code",
      "source": [
        "num = np.argmax(pred, axis=1) #printing our Labels\n",
        "print(num[0])"
      ],
      "metadata": {
        "id": "ce3KgddrQ_gU",
        "outputId": "07da8c50-fdf6-43dd-c404-362dcb803c22",
        "colab": {
          "base_uri": "https://localhost:8080/"
        }
      },
      "execution_count": 7,
      "outputs": [
        {
          "output_type": "stream",
          "name": "stdout",
          "text": [
            "5\n"
          ]
        }
      ]
    }
  ]
}