{
  "cells": [
    {
      "cell_type": "code",
      "execution_count": 1,
      "metadata": {
        "id": "RYQCbDfgDR4y"
      },
      "outputs": [],
      "source": [
        "import numpy as np\n",
        "import os\n",
        "import cv2\n",
        "import shutil\n",
        "import random as rn\n",
        "from tqdm import tqdm\n",
        "import matplotlib.pyplot as plt\n",
        "import tensorflow as tf\n",
        "\n",
        "from tensorflow import keras\n",
        "from tensorflow.keras import layers\n",
        "from tensorflow.keras.models import Sequential"
      ]
    },
    {
      "cell_type": "code",
      "source": [
        "from google.colab import drive\n",
        "drive.mount('/content/drive')"
      ],
      "metadata": {
        "colab": {
          "base_uri": "https://localhost:8080/"
        },
        "id": "nynaUDIrcoFs",
        "outputId": "9635224a-dc69-461c-f88b-a4a6e0355367"
      },
      "execution_count": 2,
      "outputs": [
        {
          "output_type": "stream",
          "name": "stdout",
          "text": [
            "Mounted at /content/drive\n"
          ]
        }
      ]
    },
    {
      "cell_type": "code",
      "execution_count": 3,
      "metadata": {
        "id": "Lf02JF_1DR5Z"
      },
      "outputs": [],
      "source": [
        "data_dir =\"/content/drive/MyDrive/Colab Notebooks/IBM/Flowers-Dataset/flowers\""
      ]
    },
    {
      "cell_type": "code",
      "execution_count": 4,
      "metadata": {
        "colab": {
          "base_uri": "https://localhost:8080/"
        },
        "id": "-n0E07ftDR5c",
        "outputId": "2e4766d6-c466-4a33-d746-795f049f02b2"
      },
      "outputs": [
        {
          "output_type": "stream",
          "name": "stdout",
          "text": [
            "['rose', 'dandelion', 'sunflower', 'tulip', 'daisy']\n"
          ]
        }
      ],
      "source": [
        "print(os.listdir(\"/content/drive/MyDrive/Colab Notebooks/IBM/Flowers-Dataset/flowers\"))"
      ]
    },
    {
      "cell_type": "code",
      "execution_count": 14,
      "metadata": {
        "id": "EMQ8eueTDR5l"
      },
      "outputs": [],
      "source": [
        "batch_size = 32\n",
        "img_height = 180\n",
        "img_width = 180\n",
        "num_classes = 5"
      ]
    },
    {
      "cell_type": "code",
      "execution_count": 6,
      "metadata": {
        "colab": {
          "base_uri": "https://localhost:8080/"
        },
        "id": "_DjvmNDBDR5s",
        "outputId": "4904157d-b485-455a-c2df-b8883c815018"
      },
      "outputs": [
        {
          "output_type": "stream",
          "name": "stdout",
          "text": [
            "Found 4317 files belonging to 5 classes.\n",
            "Using 3454 files for training.\n"
          ]
        }
      ],
      "source": [
        "train_ds = tf.keras.preprocessing.image_dataset_from_directory(\n",
        "  data_dir,\n",
        "  validation_split=0.2,\n",
        "  subset=\"training\",\n",
        "  seed=123,\n",
        "  image_size=(img_height, img_width),\n",
        "  batch_size=batch_size)"
      ]
    },
    {
      "cell_type": "code",
      "execution_count": 7,
      "metadata": {
        "colab": {
          "base_uri": "https://localhost:8080/"
        },
        "id": "h_lBl_JRDR5w",
        "outputId": "f9be7069-ec8d-45f1-ca62-a8458c6a2f74"
      },
      "outputs": [
        {
          "output_type": "stream",
          "name": "stdout",
          "text": [
            "Found 4317 files belonging to 5 classes.\n",
            "Using 863 files for validation.\n"
          ]
        }
      ],
      "source": [
        "val_ds = tf.keras.preprocessing.image_dataset_from_directory(\n",
        "  data_dir,\n",
        "  validation_split=0.2,\n",
        "  subset=\"validation\",\n",
        "  seed=123,\n",
        "  image_size=(img_height, img_width),\n",
        "  batch_size=batch_size)"
      ]
    },
    {
      "cell_type": "code",
      "execution_count": 8,
      "metadata": {
        "colab": {
          "base_uri": "https://localhost:8080/"
        },
        "id": "UDkfa9cVDR5x",
        "outputId": "d6c09270-96bf-4ceb-9cc1-8a90e83aba29"
      },
      "outputs": [
        {
          "output_type": "execute_result",
          "data": {
            "text/plain": [
              "['daisy', 'dandelion', 'rose', 'sunflower', 'tulip']"
            ]
          },
          "metadata": {},
          "execution_count": 8
        }
      ],
      "source": [
        "class_names = train_ds.class_names\n",
        "class_names"
      ]
    },
    {
      "cell_type": "code",
      "execution_count": 9,
      "metadata": {
        "id": "_XuZJGM0DR5x"
      },
      "outputs": [],
      "source": [
        "AUTOTUNE = tf.data.AUTOTUNE\n",
        "\n",
        "train_ds = train_ds.cache().shuffle(1000).prefetch(buffer_size=AUTOTUNE)\n",
        "val_ds = val_ds.cache().prefetch(buffer_size=AUTOTUNE)"
      ]
    },
    {
      "cell_type": "code",
      "execution_count": 10,
      "metadata": {
        "id": "mEdaFXd7DR5y"
      },
      "outputs": [],
      "source": [
        "normalization_layer = layers.experimental.preprocessing.Rescaling(1./255)"
      ]
    },
    {
      "cell_type": "code",
      "execution_count": 11,
      "metadata": {
        "colab": {
          "base_uri": "https://localhost:8080/"
        },
        "id": "Nl1Igcp8DR5z",
        "outputId": "3b001b6a-b393-4473-e25e-576ab75620bc"
      },
      "outputs": [
        {
          "output_type": "stream",
          "name": "stdout",
          "text": [
            "0.0 1.0\n"
          ]
        }
      ],
      "source": [
        "normalized_ds = train_ds.map(lambda x, y: (normalization_layer(x), y))\n",
        "image_batch, labels_batch = next(iter(normalized_ds))\n",
        "first_image = image_batch[0]\n",
        "# Notice the pixels values are now in `[0,1]`.\n",
        "print(np.min(first_image), np.max(first_image))"
      ]
    },
    {
      "cell_type": "markdown",
      "source": [
        "* ### ***Image Augmentation***\n",
        "\n",
        "\n",
        "\n"
      ],
      "metadata": {
        "id": "aa0jby6iGi0h"
      }
    },
    {
      "cell_type": "code",
      "execution_count": 12,
      "metadata": {
        "id": "ts97UAa6DR52"
      },
      "outputs": [],
      "source": [
        "data_augmentation = keras.Sequential(\n",
        "  [\n",
        "    layers.experimental.preprocessing.RandomFlip(\"horizontal\", \n",
        "                                                 input_shape=(img_height, \n",
        "                                                              img_width,\n",
        "                                                              3)),\n",
        "    layers.experimental.preprocessing.RandomRotation(0.1),\n",
        "    layers.experimental.preprocessing.RandomZoom(0.1),\n",
        "  ]\n",
        ")"
      ]
    },
    {
      "cell_type": "markdown",
      "source": [
        "*   ### ***Model Creation / Adding Layers***"
      ],
      "metadata": {
        "id": "h-gTfOU3G6aY"
      }
    },
    {
      "cell_type": "code",
      "execution_count": 15,
      "metadata": {
        "id": "DuDiQkSFDR53"
      },
      "outputs": [],
      "source": [
        "model = Sequential([\n",
        "  data_augmentation,\n",
        "  layers.experimental.preprocessing.Rescaling(1./255),\n",
        "  layers.Conv2D(16, 3, padding='same', activation='relu'),\n",
        "  layers.MaxPooling2D(),\n",
        "  layers.Conv2D(32, 3, padding='same', activation='relu'),\n",
        "  layers.MaxPooling2D(),\n",
        "  layers.Conv2D(64, 3, padding='same', activation='relu'),\n",
        "  layers.MaxPooling2D(),\n",
        "  layers.Conv2D(128, 3, padding='same', activation='relu'),\n",
        "  layers.MaxPooling2D(),\n",
        "  layers.Conv2D(256, 3, padding='same', activation='relu'),\n",
        "  layers.MaxPooling2D(),\n",
        "  layers.Dropout(0.3),\n",
        "  layers.Flatten(),\n",
        "  layers.Dense(512, activation='relu'),\n",
        "  layers.Dense(num_classes)\n",
        "])"
      ]
    },
    {
      "cell_type": "markdown",
      "source": [
        "* ### ***Compling the Model***"
      ],
      "metadata": {
        "id": "Dy5JnxTgHQ5R"
      }
    },
    {
      "cell_type": "code",
      "execution_count": 16,
      "metadata": {
        "id": "XHx6Hk2oDR55"
      },
      "outputs": [],
      "source": [
        "model.compile(optimizer='adam',\n",
        "              loss=tf.keras.losses.SparseCategoricalCrossentropy(from_logits=True),\n",
        "              metrics=['accuracy'])"
      ]
    },
    {
      "cell_type": "markdown",
      "source": [
        "* ### ***Fitting the Model***"
      ],
      "metadata": {
        "id": "XmrQ0USNHgcn"
      }
    },
    {
      "cell_type": "code",
      "execution_count": 17,
      "metadata": {
        "colab": {
          "base_uri": "https://localhost:8080/"
        },
        "id": "GJ6dK_2SDR55",
        "outputId": "4d1c9610-0154-402f-eadf-8fbacb6e9b1e"
      },
      "outputs": [
        {
          "output_type": "stream",
          "name": "stdout",
          "text": [
            "Epoch 1/25\n",
            "108/108 [==============================] - 104s 848ms/step - loss: 1.3140 - accuracy: 0.4276 - val_loss: 1.1180 - val_accuracy: 0.5029\n",
            "Epoch 2/25\n",
            "108/108 [==============================] - 3s 29ms/step - loss: 1.0246 - accuracy: 0.5825 - val_loss: 0.9095 - val_accuracy: 0.6269\n",
            "Epoch 3/25\n",
            "108/108 [==============================] - 3s 30ms/step - loss: 0.9208 - accuracy: 0.6375 - val_loss: 0.9261 - val_accuracy: 0.6199\n",
            "Epoch 4/25\n",
            "108/108 [==============================] - 3s 30ms/step - loss: 0.8606 - accuracy: 0.6526 - val_loss: 0.9347 - val_accuracy: 0.6246\n",
            "Epoch 5/25\n",
            "108/108 [==============================] - 3s 30ms/step - loss: 0.8408 - accuracy: 0.6731 - val_loss: 0.7965 - val_accuracy: 0.6698\n",
            "Epoch 6/25\n",
            "108/108 [==============================] - 3s 30ms/step - loss: 0.7981 - accuracy: 0.6902 - val_loss: 0.7943 - val_accuracy: 0.6906\n",
            "Epoch 7/25\n",
            "108/108 [==============================] - 3s 30ms/step - loss: 0.7698 - accuracy: 0.6969 - val_loss: 0.7518 - val_accuracy: 0.7103\n",
            "Epoch 8/25\n",
            "108/108 [==============================] - 3s 30ms/step - loss: 0.7301 - accuracy: 0.7328 - val_loss: 0.7381 - val_accuracy: 0.7149\n",
            "Epoch 9/25\n",
            "108/108 [==============================] - 3s 30ms/step - loss: 0.7165 - accuracy: 0.7322 - val_loss: 0.7541 - val_accuracy: 0.7057\n",
            "Epoch 10/25\n",
            "108/108 [==============================] - 3s 31ms/step - loss: 0.6941 - accuracy: 0.7284 - val_loss: 0.6780 - val_accuracy: 0.7520\n",
            "Epoch 11/25\n",
            "108/108 [==============================] - 3s 30ms/step - loss: 0.6631 - accuracy: 0.7423 - val_loss: 0.6997 - val_accuracy: 0.7300\n",
            "Epoch 12/25\n",
            "108/108 [==============================] - 3s 30ms/step - loss: 0.6291 - accuracy: 0.7585 - val_loss: 0.7109 - val_accuracy: 0.7346\n",
            "Epoch 13/25\n",
            "108/108 [==============================] - 3s 30ms/step - loss: 0.6053 - accuracy: 0.7675 - val_loss: 0.6490 - val_accuracy: 0.7659\n",
            "Epoch 14/25\n",
            "108/108 [==============================] - 3s 30ms/step - loss: 0.5805 - accuracy: 0.7800 - val_loss: 0.6614 - val_accuracy: 0.7590\n",
            "Epoch 15/25\n",
            "108/108 [==============================] - 3s 30ms/step - loss: 0.5771 - accuracy: 0.7803 - val_loss: 0.6022 - val_accuracy: 0.7787\n",
            "Epoch 16/25\n",
            "108/108 [==============================] - 3s 30ms/step - loss: 0.5336 - accuracy: 0.7930 - val_loss: 0.6620 - val_accuracy: 0.7764\n",
            "Epoch 17/25\n",
            "108/108 [==============================] - 3s 30ms/step - loss: 0.5350 - accuracy: 0.7858 - val_loss: 0.6577 - val_accuracy: 0.7648\n",
            "Epoch 18/25\n",
            "108/108 [==============================] - 3s 30ms/step - loss: 0.5016 - accuracy: 0.8089 - val_loss: 0.7465 - val_accuracy: 0.7532\n",
            "Epoch 19/25\n",
            "108/108 [==============================] - 3s 30ms/step - loss: 0.4718 - accuracy: 0.8208 - val_loss: 0.6895 - val_accuracy: 0.7822\n",
            "Epoch 20/25\n",
            "108/108 [==============================] - 3s 30ms/step - loss: 0.4694 - accuracy: 0.8159 - val_loss: 0.7116 - val_accuracy: 0.7625\n",
            "Epoch 21/25\n",
            "108/108 [==============================] - 3s 29ms/step - loss: 0.4698 - accuracy: 0.8147 - val_loss: 0.6292 - val_accuracy: 0.7845\n",
            "Epoch 22/25\n",
            "108/108 [==============================] - 3s 30ms/step - loss: 0.4473 - accuracy: 0.8272 - val_loss: 0.6547 - val_accuracy: 0.7914\n",
            "Epoch 23/25\n",
            "108/108 [==============================] - 3s 31ms/step - loss: 0.3950 - accuracy: 0.8518 - val_loss: 0.6630 - val_accuracy: 0.7706\n",
            "Epoch 24/25\n",
            "108/108 [==============================] - 3s 30ms/step - loss: 0.4096 - accuracy: 0.8396 - val_loss: 0.6592 - val_accuracy: 0.7717\n",
            "Epoch 25/25\n",
            "108/108 [==============================] - 3s 29ms/step - loss: 0.3779 - accuracy: 0.8492 - val_loss: 0.6723 - val_accuracy: 0.7625\n"
          ]
        },
        {
          "output_type": "execute_result",
          "data": {
            "text/plain": [
              "<keras.callbacks.History at 0x7fcdde88a790>"
            ]
          },
          "metadata": {},
          "execution_count": 17
        }
      ],
      "source": [
        "epochs=25\n",
        "model.fit(\n",
        "  train_ds,\n",
        "  validation_data=val_ds,\n",
        "  epochs=epochs\n",
        ")"
      ]
    },
    {
      "cell_type": "markdown",
      "source": [
        "* ### ***Testing on unseen image Data***"
      ],
      "metadata": {
        "id": "HmUk3C9xSpSN"
      }
    },
    {
      "cell_type": "code",
      "execution_count": 23,
      "metadata": {
        "id": "ykAjDYXdDR58",
        "colab": {
          "base_uri": "https://localhost:8080/"
        },
        "outputId": "a3c5d73f-a143-4689-816b-8b1aba792fc2"
      },
      "outputs": [
        {
          "output_type": "stream",
          "name": "stdout",
          "text": [
            "[[ 0.36658025 -3.2330253   2.590238   -4.2220488   3.3819256 ]]\n",
            "4\n",
            "['daisy', 'dandelion', 'rose', 'sunflower', 'tulip']\n"
          ]
        }
      ],
      "source": [
        "from matplotlib import image as im\n",
        "from matplotlib import pyplot\n",
        "from keras.preprocessing import image\n",
        "from PIL import Image\n",
        "data = im.imread('/content/drive/MyDrive/Colab Notebooks/IBM/th.jpg')\n",
        "img=image.load_img('/content/drive/MyDrive/Colab Notebooks/IBM/th.jpg', target_size=(180, 180))\n",
        "\n",
        "test_img=np.expand_dims(img , axis=0)\n",
        "  \n",
        "result = model.predict(test_img)\n",
        "pred = np.argmax(result) \n",
        "print(result)\n",
        "print(pred)\n",
        "print(class_names)\n",
        "\n"
      ]
    },
    {
      "cell_type": "code",
      "source": [
        "image = tf.keras.preprocessing.image.load_img('/content/drive/MyDrive/Colab Notebooks/IBM/th (1).jpg', target_size=(180,180))\n",
        "input_arr = tf.keras.preprocessing.image.img_to_array(image)\n",
        "input_arr = np.array([input_arr])  \n",
        "result = model.predict(input_arr)\n",
        "pred = np.argmax(result) \n",
        "print(class_names)\n",
        "print(pred)\n",
        "print(class_names[pred])"
      ],
      "metadata": {
        "colab": {
          "base_uri": "https://localhost:8080/"
        },
        "id": "yyJ8RCIOQ5ot",
        "outputId": "4175a14d-0812-4c34-b207-a5f0da8ca57f"
      },
      "execution_count": 26,
      "outputs": [
        {
          "output_type": "stream",
          "name": "stdout",
          "text": [
            "['daisy', 'dandelion', 'rose', 'sunflower', 'tulip']\n",
            "3\n",
            "sunflower\n"
          ]
        }
      ]
    },
    {
      "cell_type": "markdown",
      "source": [
        "* ### ***Saving Model***"
      ],
      "metadata": {
        "id": "I3rk2SvdS6M1"
      }
    },
    {
      "cell_type": "code",
      "source": [
        "model.save(\"/content/drive/MyDrive/Colab Notebooks/IBM/flower_model.h5\")"
      ],
      "metadata": {
        "id": "_hsOIVlDSWpA"
      },
      "execution_count": 27,
      "outputs": []
    },
    {
      "cell_type": "code",
      "source": [
        "from tensorflow.keras.models import load_model\n",
        "\n",
        "savedModel=load_model(\"/content/drive/MyDrive/Colab Notebooks/IBM/flower_model.h5\")\n",
        "savedModel.summary()"
      ],
      "metadata": {
        "colab": {
          "base_uri": "https://localhost:8080/"
        },
        "id": "QiJmaVIRUQYI",
        "outputId": "e8c00d3a-34ca-44c5-bf3b-c55e44b64381"
      },
      "execution_count": 28,
      "outputs": [
        {
          "output_type": "stream",
          "name": "stdout",
          "text": [
            "Model: \"sequential_1\"\n",
            "_________________________________________________________________\n",
            " Layer (type)                Output Shape              Param #   \n",
            "=================================================================\n",
            " sequential (Sequential)     (None, 180, 180, 3)       0         \n",
            "                                                                 \n",
            " rescaling_2 (Rescaling)     (None, 180, 180, 3)       0         \n",
            "                                                                 \n",
            " conv2d_5 (Conv2D)           (None, 180, 180, 16)      448       \n",
            "                                                                 \n",
            " max_pooling2d_5 (MaxPooling  (None, 90, 90, 16)       0         \n",
            " 2D)                                                             \n",
            "                                                                 \n",
            " conv2d_6 (Conv2D)           (None, 90, 90, 32)        4640      \n",
            "                                                                 \n",
            " max_pooling2d_6 (MaxPooling  (None, 45, 45, 32)       0         \n",
            " 2D)                                                             \n",
            "                                                                 \n",
            " conv2d_7 (Conv2D)           (None, 45, 45, 64)        18496     \n",
            "                                                                 \n",
            " max_pooling2d_7 (MaxPooling  (None, 22, 22, 64)       0         \n",
            " 2D)                                                             \n",
            "                                                                 \n",
            " conv2d_8 (Conv2D)           (None, 22, 22, 128)       73856     \n",
            "                                                                 \n",
            " max_pooling2d_8 (MaxPooling  (None, 11, 11, 128)      0         \n",
            " 2D)                                                             \n",
            "                                                                 \n",
            " conv2d_9 (Conv2D)           (None, 11, 11, 256)       295168    \n",
            "                                                                 \n",
            " max_pooling2d_9 (MaxPooling  (None, 5, 5, 256)        0         \n",
            " 2D)                                                             \n",
            "                                                                 \n",
            " dropout_1 (Dropout)         (None, 5, 5, 256)         0         \n",
            "                                                                 \n",
            " flatten_1 (Flatten)         (None, 6400)              0         \n",
            "                                                                 \n",
            " dense_1 (Dense)             (None, 512)               3277312   \n",
            "                                                                 \n",
            " dense_2 (Dense)             (None, 5)                 2565      \n",
            "                                                                 \n",
            "=================================================================\n",
            "Total params: 3,672,485\n",
            "Trainable params: 3,672,485\n",
            "Non-trainable params: 0\n",
            "_________________________________________________________________\n"
          ]
        }
      ]
    },
    {
      "cell_type": "code",
      "source": [],
      "metadata": {
        "id": "s2Yxq_WzUfbn"
      },
      "execution_count": null,
      "outputs": []
    }
  ],
  "metadata": {
    "kernelspec": {
      "display_name": "Python 3.8.5 ('base')",
      "language": "python",
      "name": "python3"
    },
    "language_info": {
      "codemirror_mode": {
        "name": "ipython",
        "version": 3
      },
      "file_extension": ".py",
      "mimetype": "text/x-python",
      "name": "python",
      "nbconvert_exporter": "python",
      "pygments_lexer": "ipython3",
      "version": "3.8.5"
    },
    "orig_nbformat": 4,
    "vscode": {
      "interpreter": {
        "hash": "4c7c73bd2f96f7ecfce4c2ebe289d2ebf7bb8be73ece72a715221e4a2052d88f"
      }
    },
    "colab": {
      "provenance": [],
      "collapsed_sections": []
    },
    "accelerator": "GPU"
  },
  "nbformat": 4,
  "nbformat_minor": 0
}